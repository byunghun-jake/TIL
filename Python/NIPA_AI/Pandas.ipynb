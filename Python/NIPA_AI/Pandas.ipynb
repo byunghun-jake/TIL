{
 "cells": [
  {
   "cell_type": "code",
   "execution_count": 2,
   "id": "bb84c58f",
   "metadata": {},
   "outputs": [],
   "source": [
    "try:\n",
    "    import pandas as pd\n",
    "except:\n",
    "    !pip install pandas\n",
    "    import pandas as pd"
   ]
  },
  {
   "cell_type": "markdown",
   "id": "69ebc11a",
   "metadata": {},
   "source": [
    "## Series\n",
    "\n",
    "Series는 Value를 ndarray 형태로 가지고 있다.\n",
    "\n",
    "Series는 Series라는 형태이며, 그 안에 들어간 value가 ndarray 형태인 것"
   ]
  },
  {
   "cell_type": "code",
   "execution_count": 3,
   "id": "d3609d6d",
   "metadata": {},
   "outputs": [],
   "source": [
    "data = pd.Series([1, 2, 3, 4])"
   ]
  },
  {
   "cell_type": "code",
   "execution_count": 4,
   "id": "4d75c418",
   "metadata": {
    "scrolled": true
   },
   "outputs": [
    {
     "data": {
      "text/plain": [
       "0    1\n",
       "1    2\n",
       "2    3\n",
       "3    4\n",
       "dtype: int64"
      ]
     },
     "execution_count": 4,
     "metadata": {},
     "output_type": "execute_result"
    }
   ],
   "source": [
    "data"
   ]
  },
  {
   "cell_type": "code",
   "execution_count": 5,
   "id": "522d6d15",
   "metadata": {},
   "outputs": [
    {
     "data": {
      "text/plain": [
       "pandas.core.series.Series"
      ]
     },
     "execution_count": 5,
     "metadata": {},
     "output_type": "execute_result"
    }
   ],
   "source": [
    "type(data)"
   ]
  },
  {
   "cell_type": "code",
   "execution_count": 6,
   "id": "c1841ec1",
   "metadata": {},
   "outputs": [
    {
     "data": {
      "text/plain": [
       "array([1, 2, 3, 4], dtype=int64)"
      ]
     },
     "execution_count": 6,
     "metadata": {},
     "output_type": "execute_result"
    }
   ],
   "source": [
    "data.values"
   ]
  },
  {
   "cell_type": "code",
   "execution_count": 7,
   "id": "30e4ba23",
   "metadata": {},
   "outputs": [
    {
     "data": {
      "text/plain": [
       "numpy.ndarray"
      ]
     },
     "execution_count": 7,
     "metadata": {},
     "output_type": "execute_result"
    }
   ],
   "source": [
    "type(data.values)"
   ]
  },
  {
   "cell_type": "markdown",
   "id": "4d542644",
   "metadata": {},
   "source": [
    "dtype 인자로 데이터 타입을 지정할 수 있음"
   ]
  },
  {
   "cell_type": "code",
   "execution_count": 16,
   "id": "5ed2aa63",
   "metadata": {},
   "outputs": [
    {
     "data": {
      "text/plain": [
       "0    1\n",
       "1    2\n",
       "2    3\n",
       "3    4\n",
       "dtype: string"
      ]
     },
     "execution_count": 16,
     "metadata": {},
     "output_type": "execute_result"
    }
   ],
   "source": [
    "pd.Series([1, 2, 3, 4], dtype=\"string\")"
   ]
  },
  {
   "cell_type": "markdown",
   "id": "0d33def8",
   "metadata": {},
   "source": [
    "인덱스를 지정할 수 있고 인덱스로 접근 가능"
   ]
  },
  {
   "cell_type": "code",
   "execution_count": 23,
   "id": "ca8ff76f",
   "metadata": {},
   "outputs": [
    {
     "data": {
      "text/plain": [
       "1"
      ]
     },
     "execution_count": 23,
     "metadata": {},
     "output_type": "execute_result"
    }
   ],
   "source": [
    "data = pd.Series([1, 2, 3, 4], index=[\"a\", \"b\", \"c\", \"d\"])\n",
    "\n",
    "data[\"a\"]"
   ]
  },
  {
   "cell_type": "code",
   "execution_count": 26,
   "id": "e069d6ac",
   "metadata": {},
   "outputs": [
    {
     "data": {
      "text/plain": [
       "a         1\n",
       "b         2\n",
       "c    100000\n",
       "d         4\n",
       "dtype: int64"
      ]
     },
     "execution_count": 26,
     "metadata": {},
     "output_type": "execute_result"
    }
   ],
   "source": [
    "# 인덱스로 접근하고, 값을 변경할 수 있다\n",
    "data[\"c\"] = 100000\n",
    "\n",
    "data"
   ]
  },
  {
   "cell_type": "code",
   "execution_count": 12,
   "id": "91fb3ce5",
   "metadata": {},
   "outputs": [],
   "source": [
    "population_dict = {\n",
    "    'china': 141500,\n",
    "    \"japan\": 12718,\n",
    "    \"korea\": 5180,\n",
    "    \"usa\": 32676\n",
    "}\n",
    "population = pd.Series(population_dict)"
   ]
  },
  {
   "cell_type": "code",
   "execution_count": 13,
   "id": "95a0dfb8",
   "metadata": {},
   "outputs": [
    {
     "name": "stdout",
     "output_type": "stream",
     "text": [
      "china    141500\n",
      "japan     12718\n",
      "korea      5180\n",
      "usa       32676\n",
      "dtype: int64\n"
     ]
    }
   ],
   "source": [
    "print(population)"
   ]
  },
  {
   "cell_type": "markdown",
   "id": "0000a1de",
   "metadata": {},
   "source": [
    "## DataFrame"
   ]
  },
  {
   "cell_type": "code",
   "execution_count": 14,
   "id": "d6bf824f",
   "metadata": {},
   "outputs": [
    {
     "name": "stdout",
     "output_type": "stream",
     "text": [
      "china    1409250000\n",
      "japan     516700000\n",
      "korea     169320000\n",
      "usa      2041280000\n",
      "dtype: int64\n"
     ]
    }
   ],
   "source": [
    "gdp_dict = {\n",
    "    \"china\": 1409250000,\n",
    "    \"japan\": 516700000,\n",
    "    \"korea\": 169320000,\n",
    "    \"usa\": 2041280000\n",
    "}\n",
    "\n",
    "gdp = pd.Series(gdp_dict)\n",
    "print(gdp)"
   ]
  },
  {
   "cell_type": "code",
   "execution_count": 15,
   "id": "673fea36",
   "metadata": {},
   "outputs": [
    {
     "name": "stdout",
     "output_type": "stream",
     "text": [
      "china    141500\n",
      "japan     12718\n",
      "korea      5180\n",
      "usa       32676\n",
      "dtype: int64\n"
     ]
    }
   ],
   "source": [
    "population_dict = {\n",
    "    'china': 141500,\n",
    "    \"japan\": 12718,\n",
    "    \"korea\": 5180,\n",
    "    \"usa\": 32676\n",
    "}\n",
    "population = pd.Series(population_dict)\n",
    "print(population)"
   ]
  },
  {
   "cell_type": "code",
   "execution_count": 17,
   "id": "a3e4d831",
   "metadata": {},
   "outputs": [
    {
     "name": "stdout",
     "output_type": "stream",
     "text": [
      "              gdp  population\n",
      "china  1409250000      141500\n",
      "japan   516700000       12718\n",
      "korea   169320000        5180\n",
      "usa    2041280000       32676\n"
     ]
    }
   ],
   "source": [
    "country = pd.DataFrame({\n",
    "    \"gdp\": gdp,\n",
    "    \"population\": population,\n",
    "})\n",
    "print(country)"
   ]
  },
  {
   "cell_type": "code",
   "execution_count": 21,
   "id": "e729702f",
   "metadata": {},
   "outputs": [
    {
     "name": "stdout",
     "output_type": "stream",
     "text": [
      "  country         gdp  population\n",
      "0   china  1409250000      141500\n",
      "1   japan   516700000       12718\n",
      "2   korea   169320000        5180\n",
      "3     usa  2041280000       32676\n",
      "                gdp  population\n",
      "country                        \n",
      "china    1409250000      141500\n",
      "japan     516700000       12718\n",
      "korea     169320000        5180\n",
      "usa      2041280000       32676\n"
     ]
    }
   ],
   "source": [
    "data = {\n",
    "    \"country\": [\"china\", \"japan\", \"korea\", \"usa\"],\n",
    "    \"gdp\": [1409250000, 516700000, 169320000, 2041280000],\n",
    "    \"population\": [141500, 12718, 5180, 32676]\n",
    "}\n",
    "\n",
    "country = pd.DataFrame(data)\n",
    "print(country)\n",
    "\n",
    "country = country.set_index(\"country\")\n",
    "print(country)"
   ]
  },
  {
   "cell_type": "code",
   "execution_count": 25,
   "id": "a97bcb89",
   "metadata": {},
   "outputs": [
    {
     "name": "stdout",
     "output_type": "stream",
     "text": [
      "(4, 2)\n",
      "8\n",
      "2\n",
      "[[1409250000     141500]\n",
      " [ 516700000      12718]\n",
      " [ 169320000       5180]\n",
      " [2041280000      32676]]\n"
     ]
    }
   ],
   "source": [
    "# 모양 확인\n",
    "print(country.shape)\n",
    "\n",
    "# 크기 확인\n",
    "print(country.size)\n",
    "\n",
    "# 차원 확인\n",
    "print(country.ndim)\n",
    "\n",
    "# 값 확인\n",
    "print(country.values)"
   ]
  },
  {
   "cell_type": "code",
   "execution_count": null,
   "id": "299bfb08",
   "metadata": {},
   "outputs": [],
   "source": []
  },
  {
   "cell_type": "code",
   "execution_count": null,
   "id": "56e64cf9",
   "metadata": {},
   "outputs": [],
   "source": []
  },
  {
   "cell_type": "code",
   "execution_count": null,
   "id": "4d6390ea",
   "metadata": {},
   "outputs": [],
   "source": []
  },
  {
   "cell_type": "code",
   "execution_count": null,
   "id": "a533c15b",
   "metadata": {},
   "outputs": [],
   "source": []
  },
  {
   "cell_type": "code",
   "execution_count": null,
   "id": "f271fc08",
   "metadata": {},
   "outputs": [],
   "source": []
  },
  {
   "cell_type": "code",
   "execution_count": null,
   "id": "2155993a",
   "metadata": {},
   "outputs": [],
   "source": []
  },
  {
   "cell_type": "code",
   "execution_count": null,
   "id": "46552310",
   "metadata": {},
   "outputs": [],
   "source": []
  },
  {
   "cell_type": "code",
   "execution_count": null,
   "id": "ac5bcd25",
   "metadata": {},
   "outputs": [],
   "source": []
  },
  {
   "cell_type": "code",
   "execution_count": null,
   "id": "5f25c394",
   "metadata": {},
   "outputs": [],
   "source": []
  },
  {
   "cell_type": "code",
   "execution_count": null,
   "id": "0ece36e3",
   "metadata": {},
   "outputs": [],
   "source": []
  },
  {
   "cell_type": "code",
   "execution_count": null,
   "id": "7651432b",
   "metadata": {},
   "outputs": [],
   "source": []
  },
  {
   "cell_type": "code",
   "execution_count": null,
   "id": "cf6ca4e1",
   "metadata": {},
   "outputs": [],
   "source": []
  },
  {
   "cell_type": "code",
   "execution_count": null,
   "id": "b8226bcd",
   "metadata": {},
   "outputs": [],
   "source": []
  }
 ],
 "metadata": {
  "kernelspec": {
   "display_name": "Python 3 (ipykernel)",
   "language": "python",
   "name": "python3"
  },
  "language_info": {
   "codemirror_mode": {
    "name": "ipython",
    "version": 3
   },
   "file_extension": ".py",
   "mimetype": "text/x-python",
   "name": "python",
   "nbconvert_exporter": "python",
   "pygments_lexer": "ipython3",
   "version": "3.9.6"
  },
  "toc": {
   "base_numbering": 1,
   "nav_menu": {},
   "number_sections": true,
   "sideBar": true,
   "skip_h1_title": false,
   "title_cell": "Table of Contents",
   "title_sidebar": "Contents",
   "toc_cell": false,
   "toc_position": {},
   "toc_section_display": true,
   "toc_window_display": false
  }
 },
 "nbformat": 4,
 "nbformat_minor": 5
}
